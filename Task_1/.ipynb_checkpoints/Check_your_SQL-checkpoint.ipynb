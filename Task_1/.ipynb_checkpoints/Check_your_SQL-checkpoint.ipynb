{
 "cells": [
  {
   "cell_type": "code",
   "execution_count": 90,
   "metadata": {},
   "outputs": [],
   "source": [
    "import importlib\n",
    "import subprocess\n",
    "\n",
    "import Advanced_SQL as asql\n",
    "import duckdb\n",
    "import SQL as sql\n",
    "\n",
    "_ = importlib.reload(asql)\n",
    "_ = importlib.reload(sql)"
   ]
  },
  {
   "cell_type": "markdown",
   "metadata": {},
   "source": [
    "Use this cell to test any sql queries. This can be done in one of the following ways:\n",
    "\n",
    "1. Fill in the `qry` within the \"\"\" \"\"\".\n",
    "2. Call the question functions that you have already filled in from the SQL.py and Advanced_SQL.py files. An example of question_1 being called from the SQL.py file is currently commented out.\n",
    "\n",
    "This cell can be copied if you wish to run multiple queries.\n"
   ]
  },
  {
   "cell_type": "code",
   "execution_count": 92,
   "metadata": {},
   "outputs": [
    {
     "ename": "CatalogException",
     "evalue": "Catalog Error: Table with name corrected_customers does not exist!\nDid you mean \"customers\"?\nLINE 1: SELECT * FROM corrected_customers\n                      ^",
     "output_type": "error",
     "traceback": [
      "\u001b[0;31m---------------------------------------------------------------------------\u001b[0m",
      "\u001b[0;31mCatalogException\u001b[0m                          Traceback (most recent call last)",
      "Cell \u001b[0;32mIn[92], line 33\u001b[0m\n\u001b[1;32m     29\u001b[0m qry \u001b[38;5;241m=\u001b[39m \u001b[38;5;124m\"\"\"\u001b[39m\u001b[38;5;124mSELECT * FROM corrected_customers\u001b[39m\u001b[38;5;124m\"\"\"\u001b[39m\n\u001b[1;32m     30\u001b[0m \u001b[38;5;66;03m# qry = asql.question_7()\u001b[39;00m\n\u001b[0;32m---> 33\u001b[0m \u001b[38;5;28;01mwith\u001b[39;00m duckdb\u001b[38;5;241m.\u001b[39mconnect(\u001b[38;5;124m\"\u001b[39m\u001b[38;5;124mdatabase/loan.db\u001b[39m\u001b[38;5;124m\"\u001b[39m) \u001b[38;5;28;01mas\u001b[39;00m cursor:\n\u001b[1;32m     34\u001b[0m     result_set \u001b[38;5;241m=\u001b[39m cursor\u001b[38;5;241m.\u001b[39mexecute(qry)\u001b[38;5;241m.\u001b[39mdf()\n\u001b[1;32m     36\u001b[0m result_set\n",
      "Cell \u001b[0;32mIn[92], line 34\u001b[0m\n\u001b[1;32m     30\u001b[0m \u001b[38;5;66;03m# qry = asql.question_7()\u001b[39;00m\n\u001b[1;32m     33\u001b[0m \u001b[38;5;28;01mwith\u001b[39;00m duckdb\u001b[38;5;241m.\u001b[39mconnect(\u001b[38;5;124m\"\u001b[39m\u001b[38;5;124mdatabase/loan.db\u001b[39m\u001b[38;5;124m\"\u001b[39m) \u001b[38;5;28;01mas\u001b[39;00m cursor:\n\u001b[0;32m---> 34\u001b[0m     result_set \u001b[38;5;241m=\u001b[39m \u001b[43mcursor\u001b[49m\u001b[38;5;241;43m.\u001b[39;49m\u001b[43mexecute\u001b[49m\u001b[43m(\u001b[49m\u001b[43mqry\u001b[49m\u001b[43m)\u001b[49m\u001b[38;5;241m.\u001b[39mdf()\n\u001b[1;32m     36\u001b[0m result_set\n",
      "\u001b[0;31mCatalogException\u001b[0m: Catalog Error: Table with name corrected_customers does not exist!\nDid you mean \"customers\"?\nLINE 1: SELECT * FROM corrected_customers\n                      ^"
     ]
    }
   ],
   "source": [
    "# qry = \"\"\"  \n",
    "# SELECT * FROM timeline\n",
    "# WHERE CustomerID = 1\n",
    "# \"\"\"\n",
    "\n",
    "# qry = sql.question_1()\n",
    "# qry = sql.question_2()\n",
    "# qry = sql.question_3()\n",
    "# qry = sql.question_4()\n",
    "\n",
    "#To verify question 5 we run question 5 once and then we run question 4 again to check if it is updated\n",
    "# qry = sql.question_5()\n",
    "# qry = sql.question_4()\n",
    "\n",
    "#Reset DB for advancedSQL questions. Reset DB after each section\n",
    "# qry = asql.question_1()\n",
    "# qry = asql.question_2()\n",
    "\n",
    "# To check question3 we run the query and then run the query SELECT * FROM financing to check contents\n",
    "# qry = asql.question_3()\n",
    "\n",
    "# To check question3 we run the query and then run the query SELECT * FROM timeline to check contents\n",
    "# Using the hint and running SELECT * FROM timeline WHERE CustomerID = 1 we get 12 entries\n",
    "# qry = asql.question_4()\n",
    "\n",
    "# qry = asql.question_5()\n",
    "\n",
    "qry = asql.question_6()\n",
    "with duckdb.connect(\"database/loan.db\") as cursor:\n",
    "    result_set = cursor.execute(qry).df()\n",
    "qry = \"\"\"SELECT * FROM corrected_customers\"\"\"\n",
    "# qry = asql.question_7()\n",
    "\n",
    "\n",
    "with duckdb.connect(\"database/loan.db\") as cursor:\n",
    "    result_set = cursor.execute(qry).df()\n",
    "\n",
    "result_set"
   ]
  },
  {
   "cell_type": "markdown",
   "metadata": {},
   "source": [
    "Should you break/incorrectly update any database tables, the database can be reset by running the following cell\n"
   ]
  },
  {
   "cell_type": "code",
   "execution_count": 84,
   "metadata": {},
   "outputs": [
    {
     "data": {
      "text/plain": [
       "CompletedProcess(args=['python3', 'database/database_load.py'], returncode=0)"
      ]
     },
     "execution_count": 84,
     "metadata": {},
     "output_type": "execute_result"
    }
   ],
   "source": [
    "load_script_path = \"database/database_load.py\"\n",
    "subprocess.run([\"python3\", load_script_path])"
   ]
  },
  {
   "cell_type": "code",
   "execution_count": null,
   "metadata": {},
   "outputs": [],
   "source": []
  }
 ],
 "metadata": {
  "kernelspec": {
   "display_name": "Python 3 (ipykernel)",
   "language": "python",
   "name": "python3"
  },
  "language_info": {
   "codemirror_mode": {
    "name": "ipython",
    "version": 3
   },
   "file_extension": ".py",
   "mimetype": "text/x-python",
   "name": "python",
   "nbconvert_exporter": "python",
   "pygments_lexer": "ipython3",
   "version": "3.10.18"
  }
 },
 "nbformat": 4,
 "nbformat_minor": 4
}
