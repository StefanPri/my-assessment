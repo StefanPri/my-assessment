{
 "cells": [
  {
   "cell_type": "code",
   "execution_count": 1,
   "metadata": {},
   "outputs": [],
   "source": [
    "import os\n",
    "\n",
    "import pandas as pd\n",
    "import Python as py"
   ]
  },
  {
   "cell_type": "code",
   "execution_count": 9,
   "metadata": {},
   "outputs": [
    {
     "name": "stdout",
     "output_type": "stream",
     "text": [
      "Percentage of Type 1 defaults: 15.0%\n",
      "Percentage of Type 2 defaults: 1.2%\n",
      "Anualized portfolio CPR : 3.7053458203897494%\n",
      "Highest month number in dataset: 12\n"
     ]
    }
   ],
   "source": [
    "root = os.getcwd()\n",
    "df_scheduled = pd.read_csv(root + \"/data/scheduled_loan_repayments.csv\")\n",
    "df_actual = pd.read_csv(root + \"/data/actual_loan_repayments.csv\")\n",
    "df_balances = py.calculate_df_balances(df_scheduled, df_actual)\n",
    "result = py.question_1(df_balances)\n",
    "print(f\"Percentage of Type 1 defaults: {result}%\")\n",
    "result = py.question_2(df_scheduled,df_balances)\n",
    "print(f\"Percentage of Type 2 defaults: {result}%\")\n",
    "result = py.question_3(df_balances)\n",
    "print(f\"Anualized portfolio CPR : {result}%\")\n",
    "result = py.question_4(df_balances)\n",
    "print(f\"Predicted Total Loss for second year : {result}\")"
   ]
  },
  {
   "cell_type": "code",
   "execution_count": null,
   "metadata": {},
   "outputs": [],
   "source": []
  }
 ],
 "metadata": {
  "kernelspec": {
   "display_name": "Python 3 (ipykernel)",
   "language": "python",
   "name": "python3"
  },
  "language_info": {
   "codemirror_mode": {
    "name": "ipython",
    "version": 3
   },
   "file_extension": ".py",
   "mimetype": "text/x-python",
   "name": "python",
   "nbconvert_exporter": "python",
   "pygments_lexer": "ipython3",
   "version": "3.10.18"
  }
 },
 "nbformat": 4,
 "nbformat_minor": 4
}
