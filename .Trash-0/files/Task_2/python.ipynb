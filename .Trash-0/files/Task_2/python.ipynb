{
 "cells": [
  {
   "cell_type": "code",
   "execution_count": 26,
   "metadata": {},
   "outputs": [],
   "source": [
    "import os\n",
    "\n",
    "import pandas as pd\n",
    "import Python as py"
   ]
  },
  {
   "cell_type": "code",
   "execution_count": 27,
   "metadata": {},
   "outputs": [
    {
     "ename": "NameError",
     "evalue": "name 'default_rate_percent' is not defined",
     "output_type": "error",
     "traceback": [
      "\u001b[0;31m---------------------------------------------------------------------------\u001b[0m",
      "\u001b[0;31mNameError\u001b[0m                                 Traceback (most recent call last)",
      "Cell \u001b[0;32mIn[27], line 6\u001b[0m\n\u001b[1;32m      4\u001b[0m df_balances \u001b[38;5;241m=\u001b[39m py\u001b[38;5;241m.\u001b[39mcalculate_df_balances(df_scheduled, df_actual)\n\u001b[1;32m      5\u001b[0m df_balances\u001b[38;5;241m.\u001b[39mhead()\n\u001b[0;32m----> 6\u001b[0m result \u001b[38;5;241m=\u001b[39m \u001b[43mpy\u001b[49m\u001b[38;5;241;43m.\u001b[39;49m\u001b[43mquestion_1\u001b[49m\u001b[43m(\u001b[49m\u001b[43mdf_balances\u001b[49m\u001b[43m)\u001b[49m\n\u001b[1;32m      7\u001b[0m \u001b[38;5;28mprint\u001b[39m(\u001b[38;5;124mf\u001b[39m\u001b[38;5;124m\"\u001b[39m\u001b[38;5;124mPercentage of Type 1 defaults: \u001b[39m\u001b[38;5;132;01m{\u001b[39;00mresult\u001b[38;5;132;01m}\u001b[39;00m\u001b[38;5;124m%\u001b[39m\u001b[38;5;124m\"\u001b[39m)\n",
      "File \u001b[0;32m/app/Task_2/Python.py:106\u001b[0m, in \u001b[0;36mquestion_1\u001b[0;34m(df_balances)\u001b[0m\n\u001b[1;32m     94\u001b[0m def question_1(df_balances):\n\u001b[1;32m     95\u001b[0m     \"\"\"\n\u001b[1;32m     96\u001b[0m     Calculate the percent of loans that defaulted as per the type 1 default definition.\n\u001b[1;32m     97\u001b[0m \n\u001b[0;32m   (...)\u001b[0m\n\u001b[1;32m    103\u001b[0m \n\u001b[1;32m    104\u001b[0m     \"\"\"\n\u001b[1;32m    105\u001b[0m     #A type 1 default occurs on a loan when any scheduled monthly repayment is not met in full.\n\u001b[0;32m--> 106\u001b[0m     #First we calculate the number of defaulted loans. \n\u001b[1;32m    107\u001b[0m     #Check where the actual repayment is less than the scheduled repayment.\n\u001b[1;32m    108\u001b[0m     #Get the unique loanID's of the defaulted loans.\n\u001b[1;32m    109\u001b[0m     defaulted_loans = df_balances[df_balances['ActualRepayment'] < df_balances['ScheduledRepayment']]['LoanID'].unique()\n\u001b[1;32m    111\u001b[0m     #Get the total number of loans.\n",
      "\u001b[0;31mNameError\u001b[0m: name 'default_rate_percent' is not defined"
     ]
    }
   ],
   "source": [
    "root = os.getcwd()\n",
    "df_scheduled = pd.read_csv(root + \"/data/scheduled_loan_repayments.csv\")\n",
    "df_actual = pd.read_csv(root + \"/data/actual_loan_repayments.csv\")\n",
    "df_balances = py.calculate_df_balances(df_scheduled, df_actual)\n",
    "df_balances.head()\n",
    "result = py.question_1(df_balances)\n",
    "print(f\"Percentage of Type 1 defaults: {result}%\")"
   ]
  },
  {
   "cell_type": "code",
   "execution_count": null,
   "metadata": {},
   "outputs": [],
   "source": []
  },
  {
   "cell_type": "code",
   "execution_count": null,
   "metadata": {},
   "outputs": [],
   "source": []
  }
 ],
 "metadata": {
  "kernelspec": {
   "display_name": "Python 3 (ipykernel)",
   "language": "python",
   "name": "python3"
  },
  "language_info": {
   "codemirror_mode": {
    "name": "ipython",
    "version": 3
   },
   "file_extension": ".py",
   "mimetype": "text/x-python",
   "name": "python",
   "nbconvert_exporter": "python",
   "pygments_lexer": "ipython3",
   "version": "3.10.18"
  }
 },
 "nbformat": 4,
 "nbformat_minor": 4
}
